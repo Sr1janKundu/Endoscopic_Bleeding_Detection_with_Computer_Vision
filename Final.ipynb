{
  "nbformat": 4,
  "nbformat_minor": 0,
  "metadata": {
    "colab": {
      "provenance": [],
      "gpuType": "T4",
      "include_colab_link": true
    },
    "kernelspec": {
      "name": "python3",
      "display_name": "Python 3"
    },
    "language_info": {
      "name": "python"
    },
    "accelerator": "GPU"
  },
  "cells": [
    {
      "cell_type": "markdown",
      "metadata": {
        "id": "view-in-github",
        "colab_type": "text"
      },
      "source": [
        "<a href=\"https://colab.research.google.com/github/Sr1janKundu/Endoscopic_Bleeding_Detection_with_Computer_Vision/blob/main/Final.ipynb\" target=\"_parent\"><img src=\"https://colab.research.google.com/assets/colab-badge.svg\" alt=\"Open In Colab\"/></a>"
      ]
    },
    {
      "cell_type": "code",
      "source": [
        "!nvidia-smi"
      ],
      "metadata": {
        "colab": {
          "base_uri": "https://localhost:8080/"
        },
        "id": "6iO57GfBCx0e",
        "outputId": "4f56ab07-3862-40dd-9cc2-da44d9b8037c"
      },
      "execution_count": 5,
      "outputs": [
        {
          "output_type": "stream",
          "name": "stdout",
          "text": [
            "Wed Oct 25 15:12:22 2023       \n",
            "+-----------------------------------------------------------------------------+\n",
            "| NVIDIA-SMI 525.105.17   Driver Version: 525.105.17   CUDA Version: 12.0     |\n",
            "|-------------------------------+----------------------+----------------------+\n",
            "| GPU  Name        Persistence-M| Bus-Id        Disp.A | Volatile Uncorr. ECC |\n",
            "| Fan  Temp  Perf  Pwr:Usage/Cap|         Memory-Usage | GPU-Util  Compute M. |\n",
            "|                               |                      |               MIG M. |\n",
            "|===============================+======================+======================|\n",
            "|   0  Tesla T4            Off  | 00000000:00:04.0 Off |                    0 |\n",
            "| N/A   49C    P8     9W /  70W |      0MiB / 15360MiB |      0%      Default |\n",
            "|                               |                      |                  N/A |\n",
            "+-------------------------------+----------------------+----------------------+\n",
            "                                                                               \n",
            "+-----------------------------------------------------------------------------+\n",
            "| Processes:                                                                  |\n",
            "|  GPU   GI   CI        PID   Type   Process name                  GPU Memory |\n",
            "|        ID   ID                                                   Usage      |\n",
            "|=============================================================================|\n",
            "|  No running processes found                                                 |\n",
            "+-----------------------------------------------------------------------------+\n"
          ]
        }
      ]
    },
    {
      "cell_type": "code",
      "execution_count": 6,
      "metadata": {
        "id": "AbvECLOQTqFl"
      },
      "outputs": [],
      "source": [
        "import os\n",
        "import time\n",
        "import random\n",
        "import numpy as np\n",
        "import pandas as pd\n",
        "import imageio.v2 as imageio\n",
        "from PIL import Image\n",
        "import cv2\n",
        "\n",
        "import matplotlib.pyplot as plt\n",
        "%matplotlib inline\n",
        "\n",
        "from sklearn.metrics import confusion_matrix, classification_report\n",
        "import tensorflow as tf\n",
        "from tensorflow import keras\n",
        "from keras import backend as K\n",
        "from keras.models import Sequential\n",
        "from keras.layers import InputLayer, Dense, Dropout, Flatten, Conv2D, MaxPooling2D, Conv2DTranspose, concatenate\n",
        "from keras.applications import MobileNetV2\n",
        "from keras.applications.mobilenet_v2 import preprocess_input"
      ]
    },
    {
      "cell_type": "code",
      "source": [
        "from google.colab import drive\n",
        "drive.mount('/content/drive', force_remount=True)"
      ],
      "metadata": {
        "colab": {
          "base_uri": "https://localhost:8080/"
        },
        "id": "dnN1_6wBT68b",
        "outputId": "ad92b0bc-6319-4d89-bfe7-aabe9ae894e9"
      },
      "execution_count": 7,
      "outputs": [
        {
          "output_type": "stream",
          "name": "stdout",
          "text": [
            "Mounted at /content/drive\n"
          ]
        }
      ]
    },
    {
      "cell_type": "code",
      "source": [
        "npy_files_path = \"/content/drive/MyDrive/WCEBleedGen/Implementation\"\n",
        "os.chdir(npy_files_path)\n",
        "import utils\n",
        "import models"
      ],
      "metadata": {
        "id": "NjYQcjBq9zz6"
      },
      "execution_count": 8,
      "outputs": []
    },
    {
      "cell_type": "markdown",
      "source": [
        "## Data Load"
      ],
      "metadata": {
        "id": "4LrZvOut8tv-"
      }
    },
    {
      "cell_type": "code",
      "source": [
        "# Define the paths to the training data\n",
        "## train_data_path = \"/content/drive/MyDrive/WCEBleedGen/TrainData\"\n",
        "## X_train, X_val, y_train, y_val = utils.load_data(train_data_path, save = False)"
      ],
      "metadata": {
        "id": "bibnstzlT63k"
      },
      "execution_count": 9,
      "outputs": []
    },
    {
      "cell_type": "code",
      "source": [
        "## npy_files_path = \"/content/drive/MyDrive/WCEBleedGen/Implementation\"\n",
        "X_train = np.load('X_train.npy')\n",
        "X_val = np.load('X_val.npy')\n",
        "y_train = np.load('y_train.npy')\n",
        "y_val = np.load('y_val.npy')"
      ],
      "metadata": {
        "id": "OZsTXG9a8bh8"
      },
      "execution_count": 10,
      "outputs": []
    },
    {
      "cell_type": "code",
      "source": [
        "# Print the shapes of the data and labels\n",
        "print(\"X_train shape:\", X_train.shape)\n",
        "print(\"y_train shape:\", y_train.shape)\n",
        "print(\"X_val shape:\", X_val.shape)\n",
        "print(\"y_val shape:\", y_val.shape)"
      ],
      "metadata": {
        "colab": {
          "base_uri": "https://localhost:8080/"
        },
        "id": "t0TMYDQQ9m1l",
        "outputId": "76e346ba-de39-4b68-f864-3deb0a85e290"
      },
      "execution_count": 11,
      "outputs": [
        {
          "output_type": "stream",
          "name": "stdout",
          "text": [
            "X_train shape: (2094, 224, 224, 3)\n",
            "y_train shape: (2094,)\n",
            "X_val shape: (524, 224, 224, 3)\n",
            "y_val shape: (524,)\n"
          ]
        }
      ]
    },
    {
      "cell_type": "markdown",
      "source": [
        "## Model Build"
      ],
      "metadata": {
        "id": "AyTUltPK8sfb"
      }
    },
    {
      "cell_type": "code",
      "source": [
        "model1 = models.create_model1(image_shape = (224, 224, 3))"
      ],
      "metadata": {
        "id": "jgIK7u5a8sDl"
      },
      "execution_count": 12,
      "outputs": []
    },
    {
      "cell_type": "code",
      "source": [
        "# Compile the model\n",
        "model1.compile(optimizer = tf.keras.optimizers.Adam(learning_rate = 0.001,\n",
        "                                                    weight_decay = 0.004,\n",
        "                                                    use_ema = True,\n",
        "                                                    ema_momentum = 0.9),\n",
        "              loss = tf.keras.losses.BinaryCrossentropy(from_logits=True),\n",
        "              metrics = ['accuracy'])"
      ],
      "metadata": {
        "id": "IGIHQclD2src"
      },
      "execution_count": 13,
      "outputs": []
    },
    {
      "cell_type": "code",
      "source": [
        "model1.summary()"
      ],
      "metadata": {
        "colab": {
          "base_uri": "https://localhost:8080/"
        },
        "id": "KwAddIbq2vDZ",
        "outputId": "e80160fc-0c59-42b3-fce1-e67fd85b602e"
      },
      "execution_count": 14,
      "outputs": [
        {
          "output_type": "stream",
          "name": "stdout",
          "text": [
            "Model: \"sequential\"\n",
            "_________________________________________________________________\n",
            " Layer (type)                Output Shape              Param #   \n",
            "=================================================================\n",
            " C1 (Conv2D)                 (None, 224, 224, 32)      2432      \n",
            "                                                                 \n",
            " MP1 (MaxPooling2D)          (None, 112, 112, 32)      0         \n",
            "                                                                 \n",
            " DropOut1 (Dropout)          (None, 112, 112, 32)      0         \n",
            "                                                                 \n",
            " C2 (Conv2D)                 (None, 108, 108, 64)      51264     \n",
            "                                                                 \n",
            " MP2 (MaxPooling2D)          (None, 54, 54, 64)        0         \n",
            "                                                                 \n",
            " DropOut2 (Dropout)          (None, 54, 54, 64)        0         \n",
            "                                                                 \n",
            " C3 (Conv2D)                 (None, 50, 50, 128)       204928    \n",
            "                                                                 \n",
            " MP3 (MaxPooling2D)          (None, 25, 25, 128)       0         \n",
            "                                                                 \n",
            " DropOut3 (Dropout)          (None, 25, 25, 128)       0         \n",
            "                                                                 \n",
            " Dense1 (Flatten)            (None, 80000)             0         \n",
            "                                                                 \n",
            " Dense2 (Dense)              (None, 128)               10240128  \n",
            "                                                                 \n",
            " Sigmoid_Output (Dense)      (None, 1)                 129       \n",
            "                                                                 \n",
            "=================================================================\n",
            "Total params: 10498881 (40.05 MB)\n",
            "Trainable params: 10498881 (40.05 MB)\n",
            "Non-trainable params: 0 (0.00 Byte)\n",
            "_________________________________________________________________\n"
          ]
        }
      ]
    },
    {
      "cell_type": "code",
      "source": [
        "model2 = models.create_model2(image_shape = (224, 224, 3))"
      ],
      "metadata": {
        "colab": {
          "base_uri": "https://localhost:8080/",
          "height": 630
        },
        "id": "zQX9FWc0VgB9",
        "outputId": "4d0e908e-de25-412f-ba8f-999ff3ee07c6"
      },
      "execution_count": 15,
      "outputs": [
        {
          "output_type": "stream",
          "name": "stdout",
          "text": [
            "Downloading data from https://storage.googleapis.com/tensorflow/keras-applications/mobilenet_v2/mobilenet_v2_weights_tf_dim_ordering_tf_kernels_1.0_224_no_top.h5\n",
            "9406464/9406464 [==============================] - 0s 0us/step\n"
          ]
        },
        {
          "output_type": "error",
          "ename": "ValueError",
          "evalue": "ignored",
          "traceback": [
            "\u001b[0;31m---------------------------------------------------------------------------\u001b[0m",
            "\u001b[0;31mValueError\u001b[0m                                Traceback (most recent call last)",
            "\u001b[0;32m<ipython-input-15-dc9b2e8e3fed>\u001b[0m in \u001b[0;36m<cell line: 1>\u001b[0;34m()\u001b[0m\n\u001b[0;32m----> 1\u001b[0;31m \u001b[0mmodel2\u001b[0m \u001b[0;34m=\u001b[0m \u001b[0mmodels\u001b[0m\u001b[0;34m.\u001b[0m\u001b[0mcreate_model2\u001b[0m\u001b[0;34m(\u001b[0m\u001b[0mimage_shape\u001b[0m \u001b[0;34m=\u001b[0m \u001b[0;34m(\u001b[0m\u001b[0;36m224\u001b[0m\u001b[0;34m,\u001b[0m \u001b[0;36m224\u001b[0m\u001b[0;34m,\u001b[0m \u001b[0;36m3\u001b[0m\u001b[0;34m)\u001b[0m\u001b[0;34m)\u001b[0m\u001b[0;34m\u001b[0m\u001b[0;34m\u001b[0m\u001b[0m\n\u001b[0m",
            "\u001b[0;32m/content/drive/MyDrive/WCEBleedGen/Implementation/models.py\u001b[0m in \u001b[0;36mcreate_model2\u001b[0;34m(image_shape)\u001b[0m\n\u001b[1;32m     76\u001b[0m     \u001b[0;31m# Add the new Binary classification layers\u001b[0m\u001b[0;34m\u001b[0m\u001b[0;34m\u001b[0m\u001b[0m\n\u001b[1;32m     77\u001b[0m     \u001b[0;31m# Use global avg pooling to summarize the info in each channel\u001b[0m\u001b[0;34m\u001b[0m\u001b[0;34m\u001b[0m\u001b[0m\n\u001b[0;32m---> 78\u001b[0;31m     \u001b[0mx\u001b[0m \u001b[0;34m=\u001b[0m \u001b[0mGlobalAveragePooling2D\u001b[0m\u001b[0;34m(\u001b[0m\u001b[0;34m)\u001b[0m\u001b[0;34m(\u001b[0m\u001b[0mx\u001b[0m\u001b[0;34m)\u001b[0m\u001b[0;34m\u001b[0m\u001b[0;34m\u001b[0m\u001b[0m\n\u001b[0m\u001b[1;32m     79\u001b[0m \u001b[0;34m\u001b[0m\u001b[0m\n\u001b[1;32m     80\u001b[0m     \u001b[0;31m# Include dropout with probability of 0.2 to avoid overfitting\u001b[0m\u001b[0;34m\u001b[0m\u001b[0;34m\u001b[0m\u001b[0m\n",
            "\u001b[0;32m/usr/local/lib/python3.10/dist-packages/keras/src/utils/traceback_utils.py\u001b[0m in \u001b[0;36merror_handler\u001b[0;34m(*args, **kwargs)\u001b[0m\n\u001b[1;32m     68\u001b[0m             \u001b[0;31m# To get the full stack trace, call:\u001b[0m\u001b[0;34m\u001b[0m\u001b[0;34m\u001b[0m\u001b[0m\n\u001b[1;32m     69\u001b[0m             \u001b[0;31m# `tf.debugging.disable_traceback_filtering()`\u001b[0m\u001b[0;34m\u001b[0m\u001b[0;34m\u001b[0m\u001b[0m\n\u001b[0;32m---> 70\u001b[0;31m             \u001b[0;32mraise\u001b[0m \u001b[0me\u001b[0m\u001b[0;34m.\u001b[0m\u001b[0mwith_traceback\u001b[0m\u001b[0;34m(\u001b[0m\u001b[0mfiltered_tb\u001b[0m\u001b[0;34m)\u001b[0m \u001b[0;32mfrom\u001b[0m \u001b[0;32mNone\u001b[0m\u001b[0;34m\u001b[0m\u001b[0;34m\u001b[0m\u001b[0m\n\u001b[0m\u001b[1;32m     71\u001b[0m         \u001b[0;32mfinally\u001b[0m\u001b[0;34m:\u001b[0m\u001b[0;34m\u001b[0m\u001b[0;34m\u001b[0m\u001b[0m\n\u001b[1;32m     72\u001b[0m             \u001b[0;32mdel\u001b[0m \u001b[0mfiltered_tb\u001b[0m\u001b[0;34m\u001b[0m\u001b[0;34m\u001b[0m\u001b[0m\n",
            "\u001b[0;32m/usr/local/lib/python3.10/dist-packages/keras/src/engine/input_spec.py\u001b[0m in \u001b[0;36massert_input_compatibility\u001b[0;34m(input_spec, inputs, layer_name)\u001b[0m\n\u001b[1;32m    233\u001b[0m             \u001b[0mndim\u001b[0m \u001b[0;34m=\u001b[0m \u001b[0mshape\u001b[0m\u001b[0;34m.\u001b[0m\u001b[0mrank\u001b[0m\u001b[0;34m\u001b[0m\u001b[0;34m\u001b[0m\u001b[0m\n\u001b[1;32m    234\u001b[0m             \u001b[0;32mif\u001b[0m \u001b[0mndim\u001b[0m \u001b[0;34m!=\u001b[0m \u001b[0mspec\u001b[0m\u001b[0;34m.\u001b[0m\u001b[0mndim\u001b[0m\u001b[0;34m:\u001b[0m\u001b[0;34m\u001b[0m\u001b[0;34m\u001b[0m\u001b[0m\n\u001b[0;32m--> 235\u001b[0;31m                 raise ValueError(\n\u001b[0m\u001b[1;32m    236\u001b[0m                     \u001b[0;34mf'Input {input_index} of layer \"{layer_name}\" '\u001b[0m\u001b[0;34m\u001b[0m\u001b[0;34m\u001b[0m\u001b[0m\n\u001b[1;32m    237\u001b[0m                     \u001b[0;34m\"is incompatible with the layer: \"\u001b[0m\u001b[0;34m\u001b[0m\u001b[0;34m\u001b[0m\u001b[0m\n",
            "\u001b[0;31mValueError\u001b[0m: Input 0 of layer \"global_average_pooling2d_1\" is incompatible with the layer: expected ndim=4, found ndim=2. Full shape received: (None, 1280)"
          ]
        }
      ]
    },
    {
      "cell_type": "code",
      "source": [
        "# Compile the model\n",
        "model2.compile(optimizer = tf.keras.optimizers.Adam(learning_rate = 0.01),\n",
        "              loss = tf.keras.losses.BinaryCrossentropy(from_logits=True),\n",
        "              metrics = ['accuracy'])"
      ],
      "metadata": {
        "id": "gaSiQbBqg2nM"
      },
      "execution_count": null,
      "outputs": []
    },
    {
      "cell_type": "code",
      "source": [
        "model2.summary()"
      ],
      "metadata": {
        "id": "YwsUIROsg2bG"
      },
      "execution_count": null,
      "outputs": []
    },
    {
      "cell_type": "code",
      "source": [
        "model3 = create_resnet50(image_shape = (224, 224, 3), classes = 2)"
      ],
      "metadata": {
        "id": "4SEt3lHaVwUz"
      },
      "execution_count": null,
      "outputs": []
    },
    {
      "cell_type": "code",
      "source": [
        "# Compile the model\n",
        "model3.compile(optimizer = tf.keras.optimizers.Adam(learning_rate = 0.01),\n",
        "              loss = tf.keras.losses.CategoricalCrossentropy,\n",
        "              metrics = ['accuracy'])"
      ],
      "metadata": {
        "id": "i9akrSfjV85z"
      },
      "execution_count": null,
      "outputs": []
    },
    {
      "cell_type": "markdown",
      "source": [
        "## Train"
      ],
      "metadata": {
        "id": "SsEq-E519EMs"
      }
    },
    {
      "cell_type": "code",
      "source": [
        "tick = time.perf_counter()\n",
        "history1 = model1.fit(\n",
        "    X_train, y_train,\n",
        "    batch_size = 25,\n",
        "    epochs = 50,\n",
        "    verbose = 1,\n",
        "    validation_data = (X_val, y_val),\n",
        ")\n",
        "\n",
        "tock = time.perf_counter()\n",
        "print(f\"Time to train model: {(tock-tick)/60:.2f} minutes.\")"
      ],
      "metadata": {
        "id": "p9gC5p3h2yEI"
      },
      "execution_count": null,
      "outputs": []
    },
    {
      "cell_type": "code",
      "source": [
        "tick = time.perf_counter()\n",
        "history2 = model2.fit(\n",
        "    X_train, y_train,\n",
        "    batch_size = 25,\n",
        "    epochs = 25,\n",
        "    verbose = 1,\n",
        "    validation_data = (X_val, y_val),\n",
        ")\n",
        "\n",
        "tock = time.perf_counter()\n",
        "print(f\"Time to train model: {(tock-tick)/60:.2f} minutes.\")"
      ],
      "metadata": {
        "id": "xJzgyW6blaEr"
      },
      "execution_count": null,
      "outputs": []
    },
    {
      "cell_type": "code",
      "source": [
        "tick = time.perf_counter()\n",
        "history3 = model3.fit(\n",
        "    X_train, y_train,\n",
        "    batch_size = 25,\n",
        "    epochs = 50,\n",
        "    verbose = 1,\n",
        "    validation_data = (X_val, y_val),\n",
        ")\n",
        "\n",
        "tock = time.perf_counter()\n",
        "print(f\"Time to train model: {(tock-tick)/60:.2f} minutes.\")"
      ],
      "metadata": {
        "id": "-AUOYx8KYfPB"
      },
      "execution_count": null,
      "outputs": []
    }
  ]
}