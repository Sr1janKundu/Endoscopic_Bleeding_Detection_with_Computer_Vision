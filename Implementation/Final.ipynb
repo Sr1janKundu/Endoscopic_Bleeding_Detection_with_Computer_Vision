{
  "nbformat": 4,
  "nbformat_minor": 0,
  "metadata": {
    "colab": {
      "provenance": [],
      "gpuType": "T4"
    },
    "kernelspec": {
      "name": "python3",
      "display_name": "Python 3"
    },
    "language_info": {
      "name": "python"
    },
    "accelerator": "GPU"
  },
  "cells": [
    {
      "cell_type": "code",
      "source": [
        "!nvidia-smi"
      ],
      "metadata": {
        "colab": {
          "base_uri": "https://localhost:8080/"
        },
        "id": "6iO57GfBCx0e",
        "outputId": "3d0c9858-8dfa-49a4-b3f2-9aeaf1dc015c"
      },
      "execution_count": 1,
      "outputs": [
        {
          "output_type": "stream",
          "name": "stdout",
          "text": [
            "Wed Oct 25 19:05:51 2023       \n",
            "+-----------------------------------------------------------------------------+\n",
            "| NVIDIA-SMI 525.105.17   Driver Version: 525.105.17   CUDA Version: 12.0     |\n",
            "|-------------------------------+----------------------+----------------------+\n",
            "| GPU  Name        Persistence-M| Bus-Id        Disp.A | Volatile Uncorr. ECC |\n",
            "| Fan  Temp  Perf  Pwr:Usage/Cap|         Memory-Usage | GPU-Util  Compute M. |\n",
            "|                               |                      |               MIG M. |\n",
            "|===============================+======================+======================|\n",
            "|   0  Tesla T4            Off  | 00000000:00:04.0 Off |                    0 |\n",
            "| N/A   56C    P8    10W /  70W |      0MiB / 15360MiB |      0%      Default |\n",
            "|                               |                      |                  N/A |\n",
            "+-------------------------------+----------------------+----------------------+\n",
            "                                                                               \n",
            "+-----------------------------------------------------------------------------+\n",
            "| Processes:                                                                  |\n",
            "|  GPU   GI   CI        PID   Type   Process name                  GPU Memory |\n",
            "|        ID   ID                                                   Usage      |\n",
            "|=============================================================================|\n",
            "|  No running processes found                                                 |\n",
            "+-----------------------------------------------------------------------------+\n"
          ]
        }
      ]
    },
    {
      "cell_type": "code",
      "source": [
        "import os\n",
        "import time\n",
        "import numpy as np\n",
        "import tensorflow as tf"
      ],
      "metadata": {
        "id": "2SNHJPaKO531"
      },
      "execution_count": 11,
      "outputs": []
    },
    {
      "cell_type": "code",
      "source": [
        "from google.colab import drive\n",
        "drive.mount('/content/drive', force_remount=True)"
      ],
      "metadata": {
        "colab": {
          "base_uri": "https://localhost:8080/"
        },
        "id": "dnN1_6wBT68b",
        "outputId": "d10c5014-6216-4384-aaaa-5a6ba990fa28"
      },
      "execution_count": 2,
      "outputs": [
        {
          "output_type": "stream",
          "name": "stdout",
          "text": [
            "Mounted at /content/drive\n"
          ]
        }
      ]
    },
    {
      "cell_type": "code",
      "source": [
        "npy_files_path = \"/content/drive/MyDrive/WCEBleedGen/Implementation\"\n",
        "os.chdir(npy_files_path)\n",
        "import utils\n",
        "import models"
      ],
      "metadata": {
        "id": "NjYQcjBq9zz6"
      },
      "execution_count": 3,
      "outputs": []
    },
    {
      "cell_type": "markdown",
      "source": [
        "## Data Load"
      ],
      "metadata": {
        "id": "4LrZvOut8tv-"
      }
    },
    {
      "cell_type": "code",
      "source": [
        "# Define the paths to the training data\n",
        "## train_data_path = \"/content/drive/MyDrive/WCEBleedGen/TrainData\"\n",
        "## X_train, X_val, y_train, y_val = utils.load_data(train_data_path, save = False)"
      ],
      "metadata": {
        "id": "bibnstzlT63k"
      },
      "execution_count": null,
      "outputs": []
    },
    {
      "cell_type": "code",
      "source": [
        "## npy_files_path = \"/content/drive/MyDrive/WCEBleedGen/Implementation\"\n",
        "X_train = np.load('X_train.npy')\n",
        "X_val = np.load('X_val.npy')\n",
        "y_train = np.load('y_train.npy')\n",
        "y_val = np.load('y_val.npy')"
      ],
      "metadata": {
        "id": "OZsTXG9a8bh8"
      },
      "execution_count": 7,
      "outputs": []
    },
    {
      "cell_type": "code",
      "source": [
        "# Print the shapes of the data and labels\n",
        "print(\"X_train shape:\", X_train.shape)\n",
        "print(\"y_train shape:\", y_train.shape)\n",
        "print(\"X_val shape:\", X_val.shape)\n",
        "print(\"y_val shape:\", y_val.shape)"
      ],
      "metadata": {
        "colab": {
          "base_uri": "https://localhost:8080/"
        },
        "id": "t0TMYDQQ9m1l",
        "outputId": "1ff71aa2-9c7a-4e8d-a27d-875f721daf29"
      },
      "execution_count": 8,
      "outputs": [
        {
          "output_type": "stream",
          "name": "stdout",
          "text": [
            "X_train shape: (2094, 224, 224, 3)\n",
            "y_train shape: (2094,)\n",
            "X_val shape: (524, 224, 224, 3)\n",
            "y_val shape: (524,)\n"
          ]
        }
      ]
    },
    {
      "cell_type": "markdown",
      "source": [
        "## Model Build"
      ],
      "metadata": {
        "id": "AyTUltPK8sfb"
      }
    },
    {
      "cell_type": "code",
      "source": [
        "model1 = models.create_model1(image_shape = (224, 224, 3))"
      ],
      "metadata": {
        "id": "jgIK7u5a8sDl"
      },
      "execution_count": 19,
      "outputs": []
    },
    {
      "cell_type": "code",
      "source": [
        "# Compile the model\n",
        "model1.compile(optimizer = tf.keras.optimizers.Adam(learning_rate = 0.001,\n",
        "                                                    weight_decay = 0.004,\n",
        "                                                    use_ema = True,\n",
        "                                                    ema_momentum = 0.9),\n",
        "              loss = tf.keras.losses.BinaryCrossentropy(from_logits=True),\n",
        "              metrics = ['accuracy'])"
      ],
      "metadata": {
        "id": "IGIHQclD2src"
      },
      "execution_count": 20,
      "outputs": []
    },
    {
      "cell_type": "code",
      "source": [
        "model1.summary()"
      ],
      "metadata": {
        "colab": {
          "base_uri": "https://localhost:8080/"
        },
        "id": "KwAddIbq2vDZ",
        "outputId": "b9665443-2be3-4a9b-e10a-60427fb8def5"
      },
      "execution_count": 21,
      "outputs": [
        {
          "output_type": "stream",
          "name": "stdout",
          "text": [
            "Model: \"sequential_1\"\n",
            "_________________________________________________________________\n",
            " Layer (type)                Output Shape              Param #   \n",
            "=================================================================\n",
            " C1 (Conv2D)                 (None, 224, 224, 32)      2432      \n",
            "                                                                 \n",
            " MP1 (MaxPooling2D)          (None, 112, 112, 32)      0         \n",
            "                                                                 \n",
            " DropOut1 (Dropout)          (None, 112, 112, 32)      0         \n",
            "                                                                 \n",
            " C2 (Conv2D)                 (None, 108, 108, 64)      51264     \n",
            "                                                                 \n",
            " MP2 (MaxPooling2D)          (None, 54, 54, 64)        0         \n",
            "                                                                 \n",
            " DropOut2 (Dropout)          (None, 54, 54, 64)        0         \n",
            "                                                                 \n",
            " C3 (Conv2D)                 (None, 50, 50, 128)       204928    \n",
            "                                                                 \n",
            " MP3 (MaxPooling2D)          (None, 25, 25, 128)       0         \n",
            "                                                                 \n",
            " DropOut3 (Dropout)          (None, 25, 25, 128)       0         \n",
            "                                                                 \n",
            " Dense1 (Flatten)            (None, 80000)             0         \n",
            "                                                                 \n",
            " Dense2 (Dense)              (None, 128)               10240128  \n",
            "                                                                 \n",
            " Sigmoid_Output (Dense)      (None, 1)                 129       \n",
            "                                                                 \n",
            "=================================================================\n",
            "Total params: 10498881 (40.05 MB)\n",
            "Trainable params: 10498881 (40.05 MB)\n",
            "Non-trainable params: 0 (0.00 Byte)\n",
            "_________________________________________________________________\n"
          ]
        }
      ]
    },
    {
      "cell_type": "code",
      "source": [
        "model2 = models.create_model2(input_shape = (224, 224, 3))"
      ],
      "metadata": {
        "colab": {
          "base_uri": "https://localhost:8080/"
        },
        "id": "zQX9FWc0VgB9",
        "outputId": "4442ee4b-3bd8-4599-f3b1-0f5f784470cf"
      },
      "execution_count": 9,
      "outputs": [
        {
          "output_type": "stream",
          "name": "stdout",
          "text": [
            "Downloading data from https://storage.googleapis.com/tensorflow/keras-applications/mobilenet_v2/mobilenet_v2_weights_tf_dim_ordering_tf_kernels_1.0_224_no_top.h5\n",
            "9406464/9406464 [==============================] - 0s 0us/step\n"
          ]
        }
      ]
    },
    {
      "cell_type": "code",
      "source": [
        "# Compile the model\n",
        "model2.compile(optimizer = tf.keras.optimizers.Adam(learning_rate = 0.01),\n",
        "              loss = tf.keras.losses.BinaryCrossentropy(from_logits=True),\n",
        "              metrics = ['accuracy'])"
      ],
      "metadata": {
        "id": "gaSiQbBqg2nM"
      },
      "execution_count": 12,
      "outputs": []
    },
    {
      "cell_type": "code",
      "source": [
        "model2.summary()"
      ],
      "metadata": {
        "id": "YwsUIROsg2bG",
        "colab": {
          "base_uri": "https://localhost:8080/"
        },
        "outputId": "736b4bd4-1b21-490c-cfbd-97c23eba92e4"
      },
      "execution_count": 13,
      "outputs": [
        {
          "output_type": "stream",
          "name": "stdout",
          "text": [
            "Model: \"model\"\n",
            "_________________________________________________________________\n",
            " Layer (type)                Output Shape              Param #   \n",
            "=================================================================\n",
            " input_2 (InputLayer)        [(None, 224, 224, 3)]     0         \n",
            "                                                                 \n",
            " sequential (Sequential)     (None, 224, 224, 3)       0         \n",
            "                                                                 \n",
            " tf.math.truediv (TFOpLambd  (None, 224, 224, 3)       0         \n",
            " a)                                                              \n",
            "                                                                 \n",
            " tf.math.subtract (TFOpLamb  (None, 224, 224, 3)       0         \n",
            " da)                                                             \n",
            "                                                                 \n",
            " mobilenetv2_1.00_224 (Func  (None, 7, 7, 1280)        2257984   \n",
            " tional)                                                         \n",
            "                                                                 \n",
            " global_average_pooling2d (  (None, 1280)              0         \n",
            " GlobalAveragePooling2D)                                         \n",
            "                                                                 \n",
            " dropout (Dropout)           (None, 1280)              0         \n",
            "                                                                 \n",
            " dense (Dense)               (None, 1)                 1281      \n",
            "                                                                 \n",
            "=================================================================\n",
            "Total params: 2259265 (8.62 MB)\n",
            "Trainable params: 1281 (5.00 KB)\n",
            "Non-trainable params: 2257984 (8.61 MB)\n",
            "_________________________________________________________________\n"
          ]
        }
      ]
    },
    {
      "cell_type": "code",
      "source": [
        "model3 = models.create_resnet50(input_shape = (224, 224, 3), classes = 2)"
      ],
      "metadata": {
        "id": "4SEt3lHaVwUz"
      },
      "execution_count": 14,
      "outputs": []
    },
    {
      "cell_type": "code",
      "source": [
        "# Compile the model\n",
        "model3.compile(optimizer = tf.keras.optimizers.Adam(learning_rate = 0.01),\n",
        "              loss = tf.keras.losses.CategoricalCrossentropy,\n",
        "              metrics = ['accuracy'])"
      ],
      "metadata": {
        "id": "i9akrSfjV85z"
      },
      "execution_count": 15,
      "outputs": []
    },
    {
      "cell_type": "code",
      "source": [
        "model3.summary()"
      ],
      "metadata": {
        "colab": {
          "base_uri": "https://localhost:8080/"
        },
        "id": "Y_Ejn_drmYNB",
        "outputId": "151309bc-d6e6-4662-a3c5-fc8e77687773"
      },
      "execution_count": 16,
      "outputs": [
        {
          "output_type": "stream",
          "name": "stdout",
          "text": [
            "Model: \"model_1\"\n",
            "__________________________________________________________________________________________________\n",
            " Layer (type)                Output Shape                 Param #   Connected to                  \n",
            "==================================================================================================\n",
            " input_3 (InputLayer)        [(None, 224, 224, 3)]        0         []                            \n",
            "                                                                                                  \n",
            " zero_padding2d (ZeroPaddin  (None, 230, 230, 3)          0         ['input_3[0][0]']             \n",
            " g2D)                                                                                             \n",
            "                                                                                                  \n",
            " conv2d (Conv2D)             (None, 112, 112, 64)         9472      ['zero_padding2d[0][0]']      \n",
            "                                                                                                  \n",
            " batch_normalization (Batch  (None, 112, 112, 64)         256       ['conv2d[0][0]']              \n",
            " Normalization)                                                                                   \n",
            "                                                                                                  \n",
            " activation (Activation)     (None, 112, 112, 64)         0         ['batch_normalization[0][0]'] \n",
            "                                                                                                  \n",
            " max_pooling2d (MaxPooling2  (None, 55, 55, 64)           0         ['activation[0][0]']          \n",
            " D)                                                                                               \n",
            "                                                                                                  \n",
            " conv2d_1 (Conv2D)           (None, 55, 55, 64)           4160      ['max_pooling2d[0][0]']       \n",
            "                                                                                                  \n",
            " batch_normalization_1 (Bat  (None, 55, 55, 64)           256       ['conv2d_1[0][0]']            \n",
            " chNormalization)                                                                                 \n",
            "                                                                                                  \n",
            " activation_1 (Activation)   (None, 55, 55, 64)           0         ['batch_normalization_1[0][0]'\n",
            "                                                                    ]                             \n",
            "                                                                                                  \n",
            " conv2d_2 (Conv2D)           (None, 55, 55, 64)           36928     ['activation_1[0][0]']        \n",
            "                                                                                                  \n",
            " batch_normalization_2 (Bat  (None, 55, 55, 64)           256       ['conv2d_2[0][0]']            \n",
            " chNormalization)                                                                                 \n",
            "                                                                                                  \n",
            " activation_2 (Activation)   (None, 55, 55, 64)           0         ['batch_normalization_2[0][0]'\n",
            "                                                                    ]                             \n",
            "                                                                                                  \n",
            " conv2d_3 (Conv2D)           (None, 55, 55, 256)          16640     ['activation_2[0][0]']        \n",
            "                                                                                                  \n",
            " conv2d_4 (Conv2D)           (None, 55, 55, 256)          16640     ['max_pooling2d[0][0]']       \n",
            "                                                                                                  \n",
            " batch_normalization_3 (Bat  (None, 55, 55, 256)          1024      ['conv2d_3[0][0]']            \n",
            " chNormalization)                                                                                 \n",
            "                                                                                                  \n",
            " batch_normalization_4 (Bat  (None, 55, 55, 256)          1024      ['conv2d_4[0][0]']            \n",
            " chNormalization)                                                                                 \n",
            "                                                                                                  \n",
            " add (Add)                   (None, 55, 55, 256)          0         ['batch_normalization_3[0][0]'\n",
            "                                                                    , 'batch_normalization_4[0][0]\n",
            "                                                                    ']                            \n",
            "                                                                                                  \n",
            " activation_3 (Activation)   (None, 55, 55, 256)          0         ['add[0][0]']                 \n",
            "                                                                                                  \n",
            " conv2d_5 (Conv2D)           (None, 55, 55, 64)           16448     ['activation_3[0][0]']        \n",
            "                                                                                                  \n",
            " batch_normalization_5 (Bat  (None, 55, 55, 64)           256       ['conv2d_5[0][0]']            \n",
            " chNormalization)                                                                                 \n",
            "                                                                                                  \n",
            " activation_4 (Activation)   (None, 55, 55, 64)           0         ['batch_normalization_5[0][0]'\n",
            "                                                                    ]                             \n",
            "                                                                                                  \n",
            " conv2d_6 (Conv2D)           (None, 55, 55, 64)           36928     ['activation_4[0][0]']        \n",
            "                                                                                                  \n",
            " batch_normalization_6 (Bat  (None, 55, 55, 64)           256       ['conv2d_6[0][0]']            \n",
            " chNormalization)                                                                                 \n",
            "                                                                                                  \n",
            " activation_5 (Activation)   (None, 55, 55, 64)           0         ['batch_normalization_6[0][0]'\n",
            "                                                                    ]                             \n",
            "                                                                                                  \n",
            " conv2d_7 (Conv2D)           (None, 55, 55, 256)          16640     ['activation_5[0][0]']        \n",
            "                                                                                                  \n",
            " batch_normalization_7 (Bat  (None, 55, 55, 256)          1024      ['conv2d_7[0][0]']            \n",
            " chNormalization)                                                                                 \n",
            "                                                                                                  \n",
            " add_1 (Add)                 (None, 55, 55, 256)          0         ['activation_3[0][0]',        \n",
            "                                                                     'batch_normalization_7[0][0]'\n",
            "                                                                    ]                             \n",
            "                                                                                                  \n",
            " activation_6 (Activation)   (None, 55, 55, 256)          0         ['add_1[0][0]']               \n",
            "                                                                                                  \n",
            " conv2d_8 (Conv2D)           (None, 55, 55, 64)           16448     ['activation_6[0][0]']        \n",
            "                                                                                                  \n",
            " batch_normalization_8 (Bat  (None, 55, 55, 64)           256       ['conv2d_8[0][0]']            \n",
            " chNormalization)                                                                                 \n",
            "                                                                                                  \n",
            " activation_7 (Activation)   (None, 55, 55, 64)           0         ['batch_normalization_8[0][0]'\n",
            "                                                                    ]                             \n",
            "                                                                                                  \n",
            " conv2d_9 (Conv2D)           (None, 55, 55, 64)           36928     ['activation_7[0][0]']        \n",
            "                                                                                                  \n",
            " batch_normalization_9 (Bat  (None, 55, 55, 64)           256       ['conv2d_9[0][0]']            \n",
            " chNormalization)                                                                                 \n",
            "                                                                                                  \n",
            " activation_8 (Activation)   (None, 55, 55, 64)           0         ['batch_normalization_9[0][0]'\n",
            "                                                                    ]                             \n",
            "                                                                                                  \n",
            " conv2d_10 (Conv2D)          (None, 55, 55, 256)          16640     ['activation_8[0][0]']        \n",
            "                                                                                                  \n",
            " batch_normalization_10 (Ba  (None, 55, 55, 256)          1024      ['conv2d_10[0][0]']           \n",
            " tchNormalization)                                                                                \n",
            "                                                                                                  \n",
            " add_2 (Add)                 (None, 55, 55, 256)          0         ['activation_6[0][0]',        \n",
            "                                                                     'batch_normalization_10[0][0]\n",
            "                                                                    ']                            \n",
            "                                                                                                  \n",
            " activation_9 (Activation)   (None, 55, 55, 256)          0         ['add_2[0][0]']               \n",
            "                                                                                                  \n",
            " conv2d_11 (Conv2D)          (None, 28, 28, 128)          32896     ['activation_9[0][0]']        \n",
            "                                                                                                  \n",
            " batch_normalization_11 (Ba  (None, 28, 28, 128)          512       ['conv2d_11[0][0]']           \n",
            " tchNormalization)                                                                                \n",
            "                                                                                                  \n",
            " activation_10 (Activation)  (None, 28, 28, 128)          0         ['batch_normalization_11[0][0]\n",
            "                                                                    ']                            \n",
            "                                                                                                  \n",
            " conv2d_12 (Conv2D)          (None, 28, 28, 128)          147584    ['activation_10[0][0]']       \n",
            "                                                                                                  \n",
            " batch_normalization_12 (Ba  (None, 28, 28, 128)          512       ['conv2d_12[0][0]']           \n",
            " tchNormalization)                                                                                \n",
            "                                                                                                  \n",
            " activation_11 (Activation)  (None, 28, 28, 128)          0         ['batch_normalization_12[0][0]\n",
            "                                                                    ']                            \n",
            "                                                                                                  \n",
            " conv2d_13 (Conv2D)          (None, 28, 28, 512)          66048     ['activation_11[0][0]']       \n",
            "                                                                                                  \n",
            " conv2d_14 (Conv2D)          (None, 28, 28, 512)          131584    ['activation_9[0][0]']        \n",
            "                                                                                                  \n",
            " batch_normalization_13 (Ba  (None, 28, 28, 512)          2048      ['conv2d_13[0][0]']           \n",
            " tchNormalization)                                                                                \n",
            "                                                                                                  \n",
            " batch_normalization_14 (Ba  (None, 28, 28, 512)          2048      ['conv2d_14[0][0]']           \n",
            " tchNormalization)                                                                                \n",
            "                                                                                                  \n",
            " add_3 (Add)                 (None, 28, 28, 512)          0         ['batch_normalization_13[0][0]\n",
            "                                                                    ',                            \n",
            "                                                                     'batch_normalization_14[0][0]\n",
            "                                                                    ']                            \n",
            "                                                                                                  \n",
            " activation_12 (Activation)  (None, 28, 28, 512)          0         ['add_3[0][0]']               \n",
            "                                                                                                  \n",
            " conv2d_15 (Conv2D)          (None, 28, 28, 128)          65664     ['activation_12[0][0]']       \n",
            "                                                                                                  \n",
            " batch_normalization_15 (Ba  (None, 28, 28, 128)          512       ['conv2d_15[0][0]']           \n",
            " tchNormalization)                                                                                \n",
            "                                                                                                  \n",
            " activation_13 (Activation)  (None, 28, 28, 128)          0         ['batch_normalization_15[0][0]\n",
            "                                                                    ']                            \n",
            "                                                                                                  \n",
            " conv2d_16 (Conv2D)          (None, 28, 28, 128)          147584    ['activation_13[0][0]']       \n",
            "                                                                                                  \n",
            " batch_normalization_16 (Ba  (None, 28, 28, 128)          512       ['conv2d_16[0][0]']           \n",
            " tchNormalization)                                                                                \n",
            "                                                                                                  \n",
            " activation_14 (Activation)  (None, 28, 28, 128)          0         ['batch_normalization_16[0][0]\n",
            "                                                                    ']                            \n",
            "                                                                                                  \n",
            " conv2d_17 (Conv2D)          (None, 28, 28, 512)          66048     ['activation_14[0][0]']       \n",
            "                                                                                                  \n",
            " batch_normalization_17 (Ba  (None, 28, 28, 512)          2048      ['conv2d_17[0][0]']           \n",
            " tchNormalization)                                                                                \n",
            "                                                                                                  \n",
            " add_4 (Add)                 (None, 28, 28, 512)          0         ['activation_12[0][0]',       \n",
            "                                                                     'batch_normalization_17[0][0]\n",
            "                                                                    ']                            \n",
            "                                                                                                  \n",
            " activation_15 (Activation)  (None, 28, 28, 512)          0         ['add_4[0][0]']               \n",
            "                                                                                                  \n",
            " conv2d_18 (Conv2D)          (None, 28, 28, 128)          65664     ['activation_15[0][0]']       \n",
            "                                                                                                  \n",
            " batch_normalization_18 (Ba  (None, 28, 28, 128)          512       ['conv2d_18[0][0]']           \n",
            " tchNormalization)                                                                                \n",
            "                                                                                                  \n",
            " activation_16 (Activation)  (None, 28, 28, 128)          0         ['batch_normalization_18[0][0]\n",
            "                                                                    ']                            \n",
            "                                                                                                  \n",
            " conv2d_19 (Conv2D)          (None, 28, 28, 128)          147584    ['activation_16[0][0]']       \n",
            "                                                                                                  \n",
            " batch_normalization_19 (Ba  (None, 28, 28, 128)          512       ['conv2d_19[0][0]']           \n",
            " tchNormalization)                                                                                \n",
            "                                                                                                  \n",
            " activation_17 (Activation)  (None, 28, 28, 128)          0         ['batch_normalization_19[0][0]\n",
            "                                                                    ']                            \n",
            "                                                                                                  \n",
            " conv2d_20 (Conv2D)          (None, 28, 28, 512)          66048     ['activation_17[0][0]']       \n",
            "                                                                                                  \n",
            " batch_normalization_20 (Ba  (None, 28, 28, 512)          2048      ['conv2d_20[0][0]']           \n",
            " tchNormalization)                                                                                \n",
            "                                                                                                  \n",
            " add_5 (Add)                 (None, 28, 28, 512)          0         ['activation_15[0][0]',       \n",
            "                                                                     'batch_normalization_20[0][0]\n",
            "                                                                    ']                            \n",
            "                                                                                                  \n",
            " activation_18 (Activation)  (None, 28, 28, 512)          0         ['add_5[0][0]']               \n",
            "                                                                                                  \n",
            " conv2d_21 (Conv2D)          (None, 28, 28, 128)          65664     ['activation_18[0][0]']       \n",
            "                                                                                                  \n",
            " batch_normalization_21 (Ba  (None, 28, 28, 128)          512       ['conv2d_21[0][0]']           \n",
            " tchNormalization)                                                                                \n",
            "                                                                                                  \n",
            " activation_19 (Activation)  (None, 28, 28, 128)          0         ['batch_normalization_21[0][0]\n",
            "                                                                    ']                            \n",
            "                                                                                                  \n",
            " conv2d_22 (Conv2D)          (None, 28, 28, 128)          147584    ['activation_19[0][0]']       \n",
            "                                                                                                  \n",
            " batch_normalization_22 (Ba  (None, 28, 28, 128)          512       ['conv2d_22[0][0]']           \n",
            " tchNormalization)                                                                                \n",
            "                                                                                                  \n",
            " activation_20 (Activation)  (None, 28, 28, 128)          0         ['batch_normalization_22[0][0]\n",
            "                                                                    ']                            \n",
            "                                                                                                  \n",
            " conv2d_23 (Conv2D)          (None, 28, 28, 512)          66048     ['activation_20[0][0]']       \n",
            "                                                                                                  \n",
            " batch_normalization_23 (Ba  (None, 28, 28, 512)          2048      ['conv2d_23[0][0]']           \n",
            " tchNormalization)                                                                                \n",
            "                                                                                                  \n",
            " add_6 (Add)                 (None, 28, 28, 512)          0         ['activation_18[0][0]',       \n",
            "                                                                     'batch_normalization_23[0][0]\n",
            "                                                                    ']                            \n",
            "                                                                                                  \n",
            " activation_21 (Activation)  (None, 28, 28, 512)          0         ['add_6[0][0]']               \n",
            "                                                                                                  \n",
            " conv2d_24 (Conv2D)          (None, 14, 14, 256)          131328    ['activation_21[0][0]']       \n",
            "                                                                                                  \n",
            " batch_normalization_24 (Ba  (None, 14, 14, 256)          1024      ['conv2d_24[0][0]']           \n",
            " tchNormalization)                                                                                \n",
            "                                                                                                  \n",
            " activation_22 (Activation)  (None, 14, 14, 256)          0         ['batch_normalization_24[0][0]\n",
            "                                                                    ']                            \n",
            "                                                                                                  \n",
            " conv2d_25 (Conv2D)          (None, 14, 14, 256)          590080    ['activation_22[0][0]']       \n",
            "                                                                                                  \n",
            " batch_normalization_25 (Ba  (None, 14, 14, 256)          1024      ['conv2d_25[0][0]']           \n",
            " tchNormalization)                                                                                \n",
            "                                                                                                  \n",
            " activation_23 (Activation)  (None, 14, 14, 256)          0         ['batch_normalization_25[0][0]\n",
            "                                                                    ']                            \n",
            "                                                                                                  \n",
            " conv2d_26 (Conv2D)          (None, 14, 14, 1024)         263168    ['activation_23[0][0]']       \n",
            "                                                                                                  \n",
            " conv2d_27 (Conv2D)          (None, 14, 14, 1024)         525312    ['activation_21[0][0]']       \n",
            "                                                                                                  \n",
            " batch_normalization_26 (Ba  (None, 14, 14, 1024)         4096      ['conv2d_26[0][0]']           \n",
            " tchNormalization)                                                                                \n",
            "                                                                                                  \n",
            " batch_normalization_27 (Ba  (None, 14, 14, 1024)         4096      ['conv2d_27[0][0]']           \n",
            " tchNormalization)                                                                                \n",
            "                                                                                                  \n",
            " add_7 (Add)                 (None, 14, 14, 1024)         0         ['batch_normalization_26[0][0]\n",
            "                                                                    ',                            \n",
            "                                                                     'batch_normalization_27[0][0]\n",
            "                                                                    ']                            \n",
            "                                                                                                  \n",
            " activation_24 (Activation)  (None, 14, 14, 1024)         0         ['add_7[0][0]']               \n",
            "                                                                                                  \n",
            " conv2d_28 (Conv2D)          (None, 14, 14, 256)          262400    ['activation_24[0][0]']       \n",
            "                                                                                                  \n",
            " batch_normalization_28 (Ba  (None, 14, 14, 256)          1024      ['conv2d_28[0][0]']           \n",
            " tchNormalization)                                                                                \n",
            "                                                                                                  \n",
            " activation_25 (Activation)  (None, 14, 14, 256)          0         ['batch_normalization_28[0][0]\n",
            "                                                                    ']                            \n",
            "                                                                                                  \n",
            " conv2d_29 (Conv2D)          (None, 14, 14, 256)          590080    ['activation_25[0][0]']       \n",
            "                                                                                                  \n",
            " batch_normalization_29 (Ba  (None, 14, 14, 256)          1024      ['conv2d_29[0][0]']           \n",
            " tchNormalization)                                                                                \n",
            "                                                                                                  \n",
            " activation_26 (Activation)  (None, 14, 14, 256)          0         ['batch_normalization_29[0][0]\n",
            "                                                                    ']                            \n",
            "                                                                                                  \n",
            " conv2d_30 (Conv2D)          (None, 14, 14, 1024)         263168    ['activation_26[0][0]']       \n",
            "                                                                                                  \n",
            " batch_normalization_30 (Ba  (None, 14, 14, 1024)         4096      ['conv2d_30[0][0]']           \n",
            " tchNormalization)                                                                                \n",
            "                                                                                                  \n",
            " add_8 (Add)                 (None, 14, 14, 1024)         0         ['activation_24[0][0]',       \n",
            "                                                                     'batch_normalization_30[0][0]\n",
            "                                                                    ']                            \n",
            "                                                                                                  \n",
            " activation_27 (Activation)  (None, 14, 14, 1024)         0         ['add_8[0][0]']               \n",
            "                                                                                                  \n",
            " conv2d_31 (Conv2D)          (None, 14, 14, 256)          262400    ['activation_27[0][0]']       \n",
            "                                                                                                  \n",
            " batch_normalization_31 (Ba  (None, 14, 14, 256)          1024      ['conv2d_31[0][0]']           \n",
            " tchNormalization)                                                                                \n",
            "                                                                                                  \n",
            " activation_28 (Activation)  (None, 14, 14, 256)          0         ['batch_normalization_31[0][0]\n",
            "                                                                    ']                            \n",
            "                                                                                                  \n",
            " conv2d_32 (Conv2D)          (None, 14, 14, 256)          590080    ['activation_28[0][0]']       \n",
            "                                                                                                  \n",
            " batch_normalization_32 (Ba  (None, 14, 14, 256)          1024      ['conv2d_32[0][0]']           \n",
            " tchNormalization)                                                                                \n",
            "                                                                                                  \n",
            " activation_29 (Activation)  (None, 14, 14, 256)          0         ['batch_normalization_32[0][0]\n",
            "                                                                    ']                            \n",
            "                                                                                                  \n",
            " conv2d_33 (Conv2D)          (None, 14, 14, 1024)         263168    ['activation_29[0][0]']       \n",
            "                                                                                                  \n",
            " batch_normalization_33 (Ba  (None, 14, 14, 1024)         4096      ['conv2d_33[0][0]']           \n",
            " tchNormalization)                                                                                \n",
            "                                                                                                  \n",
            " add_9 (Add)                 (None, 14, 14, 1024)         0         ['activation_27[0][0]',       \n",
            "                                                                     'batch_normalization_33[0][0]\n",
            "                                                                    ']                            \n",
            "                                                                                                  \n",
            " activation_30 (Activation)  (None, 14, 14, 1024)         0         ['add_9[0][0]']               \n",
            "                                                                                                  \n",
            " conv2d_34 (Conv2D)          (None, 14, 14, 256)          262400    ['activation_30[0][0]']       \n",
            "                                                                                                  \n",
            " batch_normalization_34 (Ba  (None, 14, 14, 256)          1024      ['conv2d_34[0][0]']           \n",
            " tchNormalization)                                                                                \n",
            "                                                                                                  \n",
            " activation_31 (Activation)  (None, 14, 14, 256)          0         ['batch_normalization_34[0][0]\n",
            "                                                                    ']                            \n",
            "                                                                                                  \n",
            " conv2d_35 (Conv2D)          (None, 14, 14, 256)          590080    ['activation_31[0][0]']       \n",
            "                                                                                                  \n",
            " batch_normalization_35 (Ba  (None, 14, 14, 256)          1024      ['conv2d_35[0][0]']           \n",
            " tchNormalization)                                                                                \n",
            "                                                                                                  \n",
            " activation_32 (Activation)  (None, 14, 14, 256)          0         ['batch_normalization_35[0][0]\n",
            "                                                                    ']                            \n",
            "                                                                                                  \n",
            " conv2d_36 (Conv2D)          (None, 14, 14, 1024)         263168    ['activation_32[0][0]']       \n",
            "                                                                                                  \n",
            " batch_normalization_36 (Ba  (None, 14, 14, 1024)         4096      ['conv2d_36[0][0]']           \n",
            " tchNormalization)                                                                                \n",
            "                                                                                                  \n",
            " add_10 (Add)                (None, 14, 14, 1024)         0         ['activation_30[0][0]',       \n",
            "                                                                     'batch_normalization_36[0][0]\n",
            "                                                                    ']                            \n",
            "                                                                                                  \n",
            " activation_33 (Activation)  (None, 14, 14, 1024)         0         ['add_10[0][0]']              \n",
            "                                                                                                  \n",
            " conv2d_37 (Conv2D)          (None, 14, 14, 256)          262400    ['activation_33[0][0]']       \n",
            "                                                                                                  \n",
            " batch_normalization_37 (Ba  (None, 14, 14, 256)          1024      ['conv2d_37[0][0]']           \n",
            " tchNormalization)                                                                                \n",
            "                                                                                                  \n",
            " activation_34 (Activation)  (None, 14, 14, 256)          0         ['batch_normalization_37[0][0]\n",
            "                                                                    ']                            \n",
            "                                                                                                  \n",
            " conv2d_38 (Conv2D)          (None, 14, 14, 256)          590080    ['activation_34[0][0]']       \n",
            "                                                                                                  \n",
            " batch_normalization_38 (Ba  (None, 14, 14, 256)          1024      ['conv2d_38[0][0]']           \n",
            " tchNormalization)                                                                                \n",
            "                                                                                                  \n",
            " activation_35 (Activation)  (None, 14, 14, 256)          0         ['batch_normalization_38[0][0]\n",
            "                                                                    ']                            \n",
            "                                                                                                  \n",
            " conv2d_39 (Conv2D)          (None, 14, 14, 1024)         263168    ['activation_35[0][0]']       \n",
            "                                                                                                  \n",
            " batch_normalization_39 (Ba  (None, 14, 14, 1024)         4096      ['conv2d_39[0][0]']           \n",
            " tchNormalization)                                                                                \n",
            "                                                                                                  \n",
            " add_11 (Add)                (None, 14, 14, 1024)         0         ['activation_33[0][0]',       \n",
            "                                                                     'batch_normalization_39[0][0]\n",
            "                                                                    ']                            \n",
            "                                                                                                  \n",
            " activation_36 (Activation)  (None, 14, 14, 1024)         0         ['add_11[0][0]']              \n",
            "                                                                                                  \n",
            " conv2d_40 (Conv2D)          (None, 14, 14, 256)          262400    ['activation_36[0][0]']       \n",
            "                                                                                                  \n",
            " batch_normalization_40 (Ba  (None, 14, 14, 256)          1024      ['conv2d_40[0][0]']           \n",
            " tchNormalization)                                                                                \n",
            "                                                                                                  \n",
            " activation_37 (Activation)  (None, 14, 14, 256)          0         ['batch_normalization_40[0][0]\n",
            "                                                                    ']                            \n",
            "                                                                                                  \n",
            " conv2d_41 (Conv2D)          (None, 14, 14, 256)          590080    ['activation_37[0][0]']       \n",
            "                                                                                                  \n",
            " batch_normalization_41 (Ba  (None, 14, 14, 256)          1024      ['conv2d_41[0][0]']           \n",
            " tchNormalization)                                                                                \n",
            "                                                                                                  \n",
            " activation_38 (Activation)  (None, 14, 14, 256)          0         ['batch_normalization_41[0][0]\n",
            "                                                                    ']                            \n",
            "                                                                                                  \n",
            " conv2d_42 (Conv2D)          (None, 14, 14, 1024)         263168    ['activation_38[0][0]']       \n",
            "                                                                                                  \n",
            " batch_normalization_42 (Ba  (None, 14, 14, 1024)         4096      ['conv2d_42[0][0]']           \n",
            " tchNormalization)                                                                                \n",
            "                                                                                                  \n",
            " add_12 (Add)                (None, 14, 14, 1024)         0         ['activation_36[0][0]',       \n",
            "                                                                     'batch_normalization_42[0][0]\n",
            "                                                                    ']                            \n",
            "                                                                                                  \n",
            " activation_39 (Activation)  (None, 14, 14, 1024)         0         ['add_12[0][0]']              \n",
            "                                                                                                  \n",
            " conv2d_43 (Conv2D)          (None, 7, 7, 512)            524800    ['activation_39[0][0]']       \n",
            "                                                                                                  \n",
            " batch_normalization_43 (Ba  (None, 7, 7, 512)            2048      ['conv2d_43[0][0]']           \n",
            " tchNormalization)                                                                                \n",
            "                                                                                                  \n",
            " activation_40 (Activation)  (None, 7, 7, 512)            0         ['batch_normalization_43[0][0]\n",
            "                                                                    ']                            \n",
            "                                                                                                  \n",
            " conv2d_44 (Conv2D)          (None, 7, 7, 512)            2359808   ['activation_40[0][0]']       \n",
            "                                                                                                  \n",
            " batch_normalization_44 (Ba  (None, 7, 7, 512)            2048      ['conv2d_44[0][0]']           \n",
            " tchNormalization)                                                                                \n",
            "                                                                                                  \n",
            " activation_41 (Activation)  (None, 7, 7, 512)            0         ['batch_normalization_44[0][0]\n",
            "                                                                    ']                            \n",
            "                                                                                                  \n",
            " conv2d_45 (Conv2D)          (None, 7, 7, 2048)           1050624   ['activation_41[0][0]']       \n",
            "                                                                                                  \n",
            " conv2d_46 (Conv2D)          (None, 7, 7, 2048)           2099200   ['activation_39[0][0]']       \n",
            "                                                                                                  \n",
            " batch_normalization_45 (Ba  (None, 7, 7, 2048)           8192      ['conv2d_45[0][0]']           \n",
            " tchNormalization)                                                                                \n",
            "                                                                                                  \n",
            " batch_normalization_46 (Ba  (None, 7, 7, 2048)           8192      ['conv2d_46[0][0]']           \n",
            " tchNormalization)                                                                                \n",
            "                                                                                                  \n",
            " add_13 (Add)                (None, 7, 7, 2048)           0         ['batch_normalization_45[0][0]\n",
            "                                                                    ',                            \n",
            "                                                                     'batch_normalization_46[0][0]\n",
            "                                                                    ']                            \n",
            "                                                                                                  \n",
            " activation_42 (Activation)  (None, 7, 7, 2048)           0         ['add_13[0][0]']              \n",
            "                                                                                                  \n",
            " conv2d_47 (Conv2D)          (None, 7, 7, 512)            1049088   ['activation_42[0][0]']       \n",
            "                                                                                                  \n",
            " batch_normalization_47 (Ba  (None, 7, 7, 512)            2048      ['conv2d_47[0][0]']           \n",
            " tchNormalization)                                                                                \n",
            "                                                                                                  \n",
            " activation_43 (Activation)  (None, 7, 7, 512)            0         ['batch_normalization_47[0][0]\n",
            "                                                                    ']                            \n",
            "                                                                                                  \n",
            " conv2d_48 (Conv2D)          (None, 7, 7, 512)            2359808   ['activation_43[0][0]']       \n",
            "                                                                                                  \n",
            " batch_normalization_48 (Ba  (None, 7, 7, 512)            2048      ['conv2d_48[0][0]']           \n",
            " tchNormalization)                                                                                \n",
            "                                                                                                  \n",
            " activation_44 (Activation)  (None, 7, 7, 512)            0         ['batch_normalization_48[0][0]\n",
            "                                                                    ']                            \n",
            "                                                                                                  \n",
            " conv2d_49 (Conv2D)          (None, 7, 7, 2048)           1050624   ['activation_44[0][0]']       \n",
            "                                                                                                  \n",
            " batch_normalization_49 (Ba  (None, 7, 7, 2048)           8192      ['conv2d_49[0][0]']           \n",
            " tchNormalization)                                                                                \n",
            "                                                                                                  \n",
            " add_14 (Add)                (None, 7, 7, 2048)           0         ['activation_42[0][0]',       \n",
            "                                                                     'batch_normalization_49[0][0]\n",
            "                                                                    ']                            \n",
            "                                                                                                  \n",
            " activation_45 (Activation)  (None, 7, 7, 2048)           0         ['add_14[0][0]']              \n",
            "                                                                                                  \n",
            " conv2d_50 (Conv2D)          (None, 7, 7, 512)            1049088   ['activation_45[0][0]']       \n",
            "                                                                                                  \n",
            " batch_normalization_50 (Ba  (None, 7, 7, 512)            2048      ['conv2d_50[0][0]']           \n",
            " tchNormalization)                                                                                \n",
            "                                                                                                  \n",
            " activation_46 (Activation)  (None, 7, 7, 512)            0         ['batch_normalization_50[0][0]\n",
            "                                                                    ']                            \n",
            "                                                                                                  \n",
            " conv2d_51 (Conv2D)          (None, 7, 7, 512)            2359808   ['activation_46[0][0]']       \n",
            "                                                                                                  \n",
            " batch_normalization_51 (Ba  (None, 7, 7, 512)            2048      ['conv2d_51[0][0]']           \n",
            " tchNormalization)                                                                                \n",
            "                                                                                                  \n",
            " activation_47 (Activation)  (None, 7, 7, 512)            0         ['batch_normalization_51[0][0]\n",
            "                                                                    ']                            \n",
            "                                                                                                  \n",
            " conv2d_52 (Conv2D)          (None, 7, 7, 2048)           1050624   ['activation_47[0][0]']       \n",
            "                                                                                                  \n",
            " batch_normalization_52 (Ba  (None, 7, 7, 2048)           8192      ['conv2d_52[0][0]']           \n",
            " tchNormalization)                                                                                \n",
            "                                                                                                  \n",
            " add_15 (Add)                (None, 7, 7, 2048)           0         ['activation_45[0][0]',       \n",
            "                                                                     'batch_normalization_52[0][0]\n",
            "                                                                    ']                            \n",
            "                                                                                                  \n",
            " activation_48 (Activation)  (None, 7, 7, 2048)           0         ['add_15[0][0]']              \n",
            "                                                                                                  \n",
            " average_pooling2d (Average  (None, 3, 3, 2048)           0         ['activation_48[0][0]']       \n",
            " Pooling2D)                                                                                       \n",
            "                                                                                                  \n",
            " flatten (Flatten)           (None, 18432)                0         ['average_pooling2d[0][0]']   \n",
            "                                                                                                  \n",
            " dense_1 (Dense)             (None, 2)                    36866     ['flatten[0][0]']             \n",
            "                                                                                                  \n",
            "==================================================================================================\n",
            "Total params: 23624578 (90.12 MB)\n",
            "Trainable params: 23571458 (89.92 MB)\n",
            "Non-trainable params: 53120 (207.50 KB)\n",
            "__________________________________________________________________________________________________\n"
          ]
        }
      ]
    },
    {
      "cell_type": "markdown",
      "source": [
        "## Train"
      ],
      "metadata": {
        "id": "SsEq-E519EMs"
      }
    },
    {
      "cell_type": "code",
      "source": [
        "tick = time.perf_counter()\n",
        "history1 = model1.fit(\n",
        "    X_train, y_train,\n",
        "    batch_size = 25,\n",
        "    epochs = 50,\n",
        "    verbose = 1,\n",
        "    validation_data = (X_val, y_val),\n",
        ")\n",
        "\n",
        "tock = time.perf_counter()\n",
        "print(f\"Time to train model: {(tock-tick)/60:.2f} minutes.\")"
      ],
      "metadata": {
        "id": "p9gC5p3h2yEI",
        "colab": {
          "base_uri": "https://localhost:8080/"
        },
        "outputId": "e7ceaa0f-681d-45d6-e443-9143a1801385"
      },
      "execution_count": 22,
      "outputs": [
        {
          "metadata": {
            "tags": null
          },
          "name": "stdout",
          "output_type": "stream",
          "text": [
            "Epoch 1/50\n"
          ]
        },
        {
          "metadata": {
            "tags": null
          },
          "name": "stderr",
          "output_type": "stream",
          "text": [
            "/usr/local/lib/python3.10/dist-packages/keras/src/backend.py:5820: UserWarning: \"`binary_crossentropy` received `from_logits=True`, but the `output` argument was produced by a Sigmoid activation and thus does not represent logits. Was this intended?\n",
            "  output, from_logits = _get_logits(\n"
          ]
        },
        {
          "output_type": "stream",
          "name": "stdout",
          "text": [
            "84/84 [==============================] - 15s 117ms/step - loss: 0.7356 - accuracy: 0.6953 - val_loss: 0.4914 - val_accuracy: 0.7595\n",
            "Epoch 2/50\n",
            "84/84 [==============================] - 7s 84ms/step - loss: 0.2179 - accuracy: 0.9155 - val_loss: 0.5906 - val_accuracy: 0.7004\n",
            "Epoch 3/50\n",
            "84/84 [==============================] - 7s 87ms/step - loss: 0.1515 - accuracy: 0.9475 - val_loss: 0.9395 - val_accuracy: 0.6355\n",
            "Epoch 4/50\n",
            "84/84 [==============================] - 7s 87ms/step - loss: 0.0938 - accuracy: 0.9661 - val_loss: 0.5568 - val_accuracy: 0.7939\n",
            "Epoch 5/50\n",
            "84/84 [==============================] - 7s 89ms/step - loss: 0.0558 - accuracy: 0.9799 - val_loss: 0.7156 - val_accuracy: 0.7195\n",
            "Epoch 6/50\n",
            "84/84 [==============================] - 7s 86ms/step - loss: 0.0539 - accuracy: 0.9814 - val_loss: 0.7861 - val_accuracy: 0.7118\n",
            "Epoch 7/50\n",
            "84/84 [==============================] - 7s 89ms/step - loss: 0.0345 - accuracy: 0.9881 - val_loss: 0.9682 - val_accuracy: 0.6336\n",
            "Epoch 8/50\n",
            "84/84 [==============================] - 7s 86ms/step - loss: 0.0312 - accuracy: 0.9900 - val_loss: 1.6860 - val_accuracy: 0.5821\n",
            "Epoch 9/50\n",
            "84/84 [==============================] - 7s 86ms/step - loss: 0.0246 - accuracy: 0.9900 - val_loss: 1.2715 - val_accuracy: 0.7252\n",
            "Epoch 10/50\n",
            "84/84 [==============================] - 7s 88ms/step - loss: 0.0204 - accuracy: 0.9928 - val_loss: 1.9854 - val_accuracy: 0.6298\n",
            "Epoch 11/50\n",
            "84/84 [==============================] - 7s 86ms/step - loss: 0.0872 - accuracy: 0.9799 - val_loss: 1.4952 - val_accuracy: 0.4256\n",
            "Epoch 12/50\n",
            "84/84 [==============================] - 7s 86ms/step - loss: 0.1300 - accuracy: 0.9494 - val_loss: 2.0217 - val_accuracy: 0.4656\n",
            "Epoch 13/50\n",
            "84/84 [==============================] - 7s 81ms/step - loss: 0.0694 - accuracy: 0.9747 - val_loss: 2.2660 - val_accuracy: 0.4828\n",
            "Epoch 14/50\n",
            "84/84 [==============================] - 7s 84ms/step - loss: 0.0147 - accuracy: 0.9962 - val_loss: 2.8405 - val_accuracy: 0.5706\n",
            "Epoch 15/50\n",
            "84/84 [==============================] - 7s 82ms/step - loss: 0.0053 - accuracy: 0.9990 - val_loss: 2.8837 - val_accuracy: 0.5000\n",
            "Epoch 16/50\n",
            "84/84 [==============================] - 7s 88ms/step - loss: 0.0131 - accuracy: 0.9957 - val_loss: 4.2906 - val_accuracy: 0.4676\n",
            "Epoch 17/50\n",
            "84/84 [==============================] - 7s 84ms/step - loss: 0.0068 - accuracy: 0.9981 - val_loss: 2.9303 - val_accuracy: 0.5553\n",
            "Epoch 18/50\n",
            "84/84 [==============================] - 7s 83ms/step - loss: 0.0019 - accuracy: 0.9995 - val_loss: 2.9209 - val_accuracy: 0.5382\n",
            "Epoch 19/50\n",
            "84/84 [==============================] - 7s 83ms/step - loss: 0.0018 - accuracy: 0.9995 - val_loss: 2.8829 - val_accuracy: 0.5573\n",
            "Epoch 20/50\n",
            "84/84 [==============================] - 7s 88ms/step - loss: 0.0047 - accuracy: 0.9981 - val_loss: 3.0719 - val_accuracy: 0.5496\n",
            "Epoch 21/50\n",
            "84/84 [==============================] - 7s 81ms/step - loss: 0.0253 - accuracy: 0.9904 - val_loss: 2.1135 - val_accuracy: 0.5458\n",
            "Epoch 22/50\n",
            "84/84 [==============================] - 7s 82ms/step - loss: 0.0080 - accuracy: 0.9976 - val_loss: 3.5325 - val_accuracy: 0.5859\n",
            "Epoch 23/50\n",
            "84/84 [==============================] - 7s 80ms/step - loss: 0.0012 - accuracy: 1.0000 - val_loss: 3.0966 - val_accuracy: 0.5935\n",
            "Epoch 24/50\n",
            "84/84 [==============================] - 7s 86ms/step - loss: 0.0219 - accuracy: 0.9952 - val_loss: 3.5144 - val_accuracy: 0.4351\n",
            "Epoch 25/50\n",
            "84/84 [==============================] - 7s 79ms/step - loss: 0.0109 - accuracy: 0.9962 - val_loss: 3.0213 - val_accuracy: 0.5706\n",
            "Epoch 26/50\n",
            "84/84 [==============================] - 7s 86ms/step - loss: 0.0038 - accuracy: 0.9986 - val_loss: 3.5278 - val_accuracy: 0.5439\n",
            "Epoch 27/50\n",
            "84/84 [==============================] - 7s 83ms/step - loss: 6.4589e-04 - accuracy: 1.0000 - val_loss: 3.3927 - val_accuracy: 0.5802\n",
            "Epoch 28/50\n",
            "84/84 [==============================] - 7s 85ms/step - loss: 2.1127e-04 - accuracy: 1.0000 - val_loss: 3.3520 - val_accuracy: 0.5973\n",
            "Epoch 29/50\n",
            "84/84 [==============================] - 7s 84ms/step - loss: 2.0542e-04 - accuracy: 1.0000 - val_loss: 3.4063 - val_accuracy: 0.5935\n",
            "Epoch 30/50\n",
            "84/84 [==============================] - 7s 82ms/step - loss: 4.6533e-04 - accuracy: 1.0000 - val_loss: 3.1227 - val_accuracy: 0.6164\n",
            "Epoch 31/50\n",
            "84/84 [==============================] - 7s 81ms/step - loss: 2.2691e-04 - accuracy: 1.0000 - val_loss: 3.0870 - val_accuracy: 0.6260\n",
            "Epoch 32/50\n",
            "84/84 [==============================] - 7s 83ms/step - loss: 5.5790e-05 - accuracy: 1.0000 - val_loss: 3.0480 - val_accuracy: 0.6260\n",
            "Epoch 33/50\n",
            "84/84 [==============================] - 7s 81ms/step - loss: 3.5276e-05 - accuracy: 1.0000 - val_loss: 3.0273 - val_accuracy: 0.6317\n",
            "Epoch 34/50\n",
            "84/84 [==============================] - 7s 83ms/step - loss: 6.2961e-05 - accuracy: 1.0000 - val_loss: 3.0703 - val_accuracy: 0.6336\n",
            "Epoch 35/50\n",
            "84/84 [==============================] - 7s 80ms/step - loss: 6.6724e-05 - accuracy: 1.0000 - val_loss: 3.0779 - val_accuracy: 0.6336\n",
            "Epoch 36/50\n",
            "84/84 [==============================] - 7s 83ms/step - loss: 4.7044e-05 - accuracy: 1.0000 - val_loss: 3.0463 - val_accuracy: 0.6355\n",
            "Epoch 37/50\n",
            "84/84 [==============================] - 7s 81ms/step - loss: 3.4809e-05 - accuracy: 1.0000 - val_loss: 3.1013 - val_accuracy: 0.6374\n",
            "Epoch 38/50\n",
            "84/84 [==============================] - 7s 83ms/step - loss: 3.9096e-05 - accuracy: 1.0000 - val_loss: 3.1523 - val_accuracy: 0.6374\n",
            "Epoch 39/50\n",
            "84/84 [==============================] - 7s 81ms/step - loss: 1.2785e-04 - accuracy: 1.0000 - val_loss: 3.3969 - val_accuracy: 0.6183\n",
            "Epoch 40/50\n",
            "84/84 [==============================] - 7s 83ms/step - loss: 2.0850e-05 - accuracy: 1.0000 - val_loss: 3.4272 - val_accuracy: 0.6221\n",
            "Epoch 41/50\n",
            "84/84 [==============================] - 7s 82ms/step - loss: 0.0244 - accuracy: 0.9919 - val_loss: 1.6249 - val_accuracy: 0.7405\n",
            "Epoch 42/50\n",
            "84/84 [==============================] - 7s 82ms/step - loss: 0.0228 - accuracy: 0.9943 - val_loss: 2.1956 - val_accuracy: 0.6355\n",
            "Epoch 43/50\n",
            "84/84 [==============================] - 7s 82ms/step - loss: 0.0023 - accuracy: 0.9986 - val_loss: 1.6671 - val_accuracy: 0.7099\n",
            "Epoch 44/50\n",
            "84/84 [==============================] - 7s 81ms/step - loss: 0.0015 - accuracy: 0.9990 - val_loss: 2.7393 - val_accuracy: 0.6584\n",
            "Epoch 45/50\n",
            "84/84 [==============================] - 7s 83ms/step - loss: 7.5732e-05 - accuracy: 1.0000 - val_loss: 2.5578 - val_accuracy: 0.6603\n",
            "Epoch 46/50\n",
            "84/84 [==============================] - 7s 86ms/step - loss: 7.0688e-05 - accuracy: 1.0000 - val_loss: 2.6430 - val_accuracy: 0.6660\n",
            "Epoch 47/50\n",
            "84/84 [==============================] - 7s 83ms/step - loss: 6.7536e-05 - accuracy: 1.0000 - val_loss: 2.7186 - val_accuracy: 0.6718\n",
            "Epoch 48/50\n",
            "84/84 [==============================] - 7s 84ms/step - loss: 3.9767e-04 - accuracy: 1.0000 - val_loss: 2.9492 - val_accuracy: 0.6279\n",
            "Epoch 49/50\n",
            "84/84 [==============================] - 7s 82ms/step - loss: 3.8213e-05 - accuracy: 1.0000 - val_loss: 2.9499 - val_accuracy: 0.6336\n",
            "Epoch 50/50\n",
            "84/84 [==============================] - 7s 80ms/step - loss: 3.1262e-05 - accuracy: 1.0000 - val_loss: 2.9505 - val_accuracy: 0.6355\n",
            "Time to train model: 6.46 minutes.\n"
          ]
        }
      ]
    },
    {
      "cell_type": "code",
      "source": [
        "tick = time.perf_counter()\n",
        "history2 = model2.fit(\n",
        "    X_train, y_train,\n",
        "    batch_size = 25,\n",
        "    epochs = 25,\n",
        "    verbose = 1,\n",
        "    validation_data = (X_val, y_val),\n",
        ")\n",
        "\n",
        "tock = time.perf_counter()\n",
        "print(f\"Time to train model: {(tock-tick)/60:.2f} minutes.\")"
      ],
      "metadata": {
        "id": "xJzgyW6blaEr",
        "colab": {
          "base_uri": "https://localhost:8080/"
        },
        "outputId": "c5dee8b0-b1a9-40f8-88ce-cb13a70fd995"
      },
      "execution_count": 17,
      "outputs": [
        {
          "output_type": "stream",
          "name": "stdout",
          "text": [
            "Epoch 1/25\n",
            "84/84 [==============================] - 19s 81ms/step - loss: 0.7842 - accuracy: 0.5024 - val_loss: 0.7484 - val_accuracy: 0.5057\n",
            "Epoch 2/25\n",
            "84/84 [==============================] - 5s 54ms/step - loss: 0.7623 - accuracy: 0.5119 - val_loss: 0.7145 - val_accuracy: 0.5000\n",
            "Epoch 3/25\n",
            "84/84 [==============================] - 5s 55ms/step - loss: 0.7271 - accuracy: 0.5172 - val_loss: 0.6700 - val_accuracy: 0.5000\n",
            "Epoch 4/25\n",
            "84/84 [==============================] - 5s 59ms/step - loss: 0.7173 - accuracy: 0.5310 - val_loss: 0.6953 - val_accuracy: 0.7271\n",
            "Epoch 5/25\n",
            "84/84 [==============================] - 5s 54ms/step - loss: 0.7117 - accuracy: 0.5263 - val_loss: 0.6591 - val_accuracy: 0.5000\n",
            "Epoch 6/25\n",
            "84/84 [==============================] - 4s 49ms/step - loss: 0.7109 - accuracy: 0.5435 - val_loss: 0.8504 - val_accuracy: 0.5000\n",
            "Epoch 7/25\n",
            "84/84 [==============================] - 5s 55ms/step - loss: 0.7246 - accuracy: 0.5478 - val_loss: 0.7205 - val_accuracy: 0.5000\n",
            "Epoch 8/25\n",
            "84/84 [==============================] - 5s 55ms/step - loss: 0.6819 - accuracy: 0.5478 - val_loss: 0.6620 - val_accuracy: 0.5000\n",
            "Epoch 9/25\n",
            "84/84 [==============================] - 5s 55ms/step - loss: 0.7311 - accuracy: 0.5516 - val_loss: 0.6785 - val_accuracy: 0.7252\n",
            "Epoch 10/25\n",
            "84/84 [==============================] - 5s 56ms/step - loss: 0.6989 - accuracy: 0.5463 - val_loss: 0.6665 - val_accuracy: 0.7844\n",
            "Epoch 11/25\n",
            "84/84 [==============================] - 4s 53ms/step - loss: 0.6817 - accuracy: 0.5697 - val_loss: 0.6713 - val_accuracy: 0.7538\n",
            "Epoch 12/25\n",
            "84/84 [==============================] - 5s 55ms/step - loss: 0.7604 - accuracy: 0.5420 - val_loss: 0.6523 - val_accuracy: 0.7290\n",
            "Epoch 13/25\n",
            "84/84 [==============================] - 5s 56ms/step - loss: 0.6849 - accuracy: 0.5688 - val_loss: 0.6512 - val_accuracy: 0.5000\n",
            "Epoch 14/25\n",
            "84/84 [==============================] - 5s 58ms/step - loss: 0.6892 - accuracy: 0.5669 - val_loss: 0.6352 - val_accuracy: 0.5496\n",
            "Epoch 15/25\n",
            "84/84 [==============================] - 4s 49ms/step - loss: 0.7117 - accuracy: 0.5616 - val_loss: 0.6391 - val_accuracy: 0.5000\n",
            "Epoch 16/25\n",
            "84/84 [==============================] - 4s 50ms/step - loss: 0.7140 - accuracy: 0.5692 - val_loss: 0.7051 - val_accuracy: 0.5458\n",
            "Epoch 17/25\n",
            "84/84 [==============================] - 5s 60ms/step - loss: 0.6797 - accuracy: 0.5783 - val_loss: 0.7718 - val_accuracy: 0.5000\n",
            "Epoch 18/25\n",
            "84/84 [==============================] - 5s 56ms/step - loss: 0.6830 - accuracy: 0.5769 - val_loss: 0.8026 - val_accuracy: 0.5267\n",
            "Epoch 19/25\n",
            "84/84 [==============================] - 4s 50ms/step - loss: 0.6831 - accuracy: 0.5745 - val_loss: 0.6277 - val_accuracy: 0.5305\n",
            "Epoch 20/25\n",
            "84/84 [==============================] - 5s 60ms/step - loss: 0.6589 - accuracy: 0.5960 - val_loss: 0.6965 - val_accuracy: 0.5878\n",
            "Epoch 21/25\n",
            "84/84 [==============================] - 5s 55ms/step - loss: 0.6731 - accuracy: 0.6036 - val_loss: 0.6286 - val_accuracy: 0.5515\n",
            "Epoch 22/25\n",
            "84/84 [==============================] - 5s 55ms/step - loss: 0.6547 - accuracy: 0.6008 - val_loss: 0.7665 - val_accuracy: 0.5000\n",
            "Epoch 23/25\n",
            "84/84 [==============================] - 4s 52ms/step - loss: 0.6682 - accuracy: 0.5989 - val_loss: 0.6483 - val_accuracy: 0.5000\n",
            "Epoch 24/25\n",
            "84/84 [==============================] - 4s 49ms/step - loss: 0.8035 - accuracy: 0.5525 - val_loss: 0.6867 - val_accuracy: 0.5916\n",
            "Epoch 25/25\n",
            "84/84 [==============================] - 5s 55ms/step - loss: 0.6852 - accuracy: 0.5888 - val_loss: 0.6793 - val_accuracy: 0.6126\n",
            "Time to train model: 2.48 minutes.\n"
          ]
        }
      ]
    },
    {
      "cell_type": "code",
      "source": [
        "tick = time.perf_counter()\n",
        "history3 = model3.fit(\n",
        "    X_train, y_train,\n",
        "    batch_size = 25,\n",
        "    epochs = 50,\n",
        "    verbose = 1,\n",
        "    validation_data = (X_val, y_val),\n",
        ")\n",
        "\n",
        "tock = time.perf_counter()\n",
        "print(f\"Time to train model: {(tock-tick)/60:.2f} minutes.\")"
      ],
      "metadata": {
        "colab": {
          "base_uri": "https://localhost:8080/",
          "height": 889
        },
        "id": "-AUOYx8KYfPB",
        "outputId": "d8ddd4fe-9a4b-44d4-b24f-0a95bb2ae06e"
      },
      "execution_count": 18,
      "outputs": [
        {
          "output_type": "stream",
          "name": "stdout",
          "text": [
            "Epoch 1/50\n"
          ]
        },
        {
          "output_type": "error",
          "ename": "TypeError",
          "evalue": "ignored",
          "traceback": [
            "\u001b[0;31m---------------------------------------------------------------------------\u001b[0m",
            "\u001b[0;31mTypeError\u001b[0m                                 Traceback (most recent call last)",
            "\u001b[0;32m<ipython-input-18-f4edeb6cf040>\u001b[0m in \u001b[0;36m<cell line: 2>\u001b[0;34m()\u001b[0m\n\u001b[1;32m      1\u001b[0m \u001b[0mtick\u001b[0m \u001b[0;34m=\u001b[0m \u001b[0mtime\u001b[0m\u001b[0;34m.\u001b[0m\u001b[0mperf_counter\u001b[0m\u001b[0;34m(\u001b[0m\u001b[0;34m)\u001b[0m\u001b[0;34m\u001b[0m\u001b[0;34m\u001b[0m\u001b[0m\n\u001b[0;32m----> 2\u001b[0;31m history3 = model3.fit(\n\u001b[0m\u001b[1;32m      3\u001b[0m     \u001b[0mX_train\u001b[0m\u001b[0;34m,\u001b[0m \u001b[0my_train\u001b[0m\u001b[0;34m,\u001b[0m\u001b[0;34m\u001b[0m\u001b[0;34m\u001b[0m\u001b[0m\n\u001b[1;32m      4\u001b[0m     \u001b[0mbatch_size\u001b[0m \u001b[0;34m=\u001b[0m \u001b[0;36m25\u001b[0m\u001b[0;34m,\u001b[0m\u001b[0;34m\u001b[0m\u001b[0;34m\u001b[0m\u001b[0m\n\u001b[1;32m      5\u001b[0m     \u001b[0mepochs\u001b[0m \u001b[0;34m=\u001b[0m \u001b[0;36m50\u001b[0m\u001b[0;34m,\u001b[0m\u001b[0;34m\u001b[0m\u001b[0;34m\u001b[0m\u001b[0m\n",
            "\u001b[0;32m/usr/local/lib/python3.10/dist-packages/keras/src/utils/traceback_utils.py\u001b[0m in \u001b[0;36merror_handler\u001b[0;34m(*args, **kwargs)\u001b[0m\n\u001b[1;32m     68\u001b[0m             \u001b[0;31m# To get the full stack trace, call:\u001b[0m\u001b[0;34m\u001b[0m\u001b[0;34m\u001b[0m\u001b[0m\n\u001b[1;32m     69\u001b[0m             \u001b[0;31m# `tf.debugging.disable_traceback_filtering()`\u001b[0m\u001b[0;34m\u001b[0m\u001b[0;34m\u001b[0m\u001b[0m\n\u001b[0;32m---> 70\u001b[0;31m             \u001b[0;32mraise\u001b[0m \u001b[0me\u001b[0m\u001b[0;34m.\u001b[0m\u001b[0mwith_traceback\u001b[0m\u001b[0;34m(\u001b[0m\u001b[0mfiltered_tb\u001b[0m\u001b[0;34m)\u001b[0m \u001b[0;32mfrom\u001b[0m \u001b[0;32mNone\u001b[0m\u001b[0;34m\u001b[0m\u001b[0;34m\u001b[0m\u001b[0m\n\u001b[0m\u001b[1;32m     71\u001b[0m         \u001b[0;32mfinally\u001b[0m\u001b[0;34m:\u001b[0m\u001b[0;34m\u001b[0m\u001b[0;34m\u001b[0m\u001b[0m\n\u001b[1;32m     72\u001b[0m             \u001b[0;32mdel\u001b[0m \u001b[0mfiltered_tb\u001b[0m\u001b[0;34m\u001b[0m\u001b[0;34m\u001b[0m\u001b[0m\n",
            "\u001b[0;32m/usr/local/lib/python3.10/dist-packages/keras/src/engine/training.py\u001b[0m in \u001b[0;36mtf__train_function\u001b[0;34m(iterator)\u001b[0m\n\u001b[1;32m     13\u001b[0m                 \u001b[0;32mtry\u001b[0m\u001b[0;34m:\u001b[0m\u001b[0;34m\u001b[0m\u001b[0;34m\u001b[0m\u001b[0m\n\u001b[1;32m     14\u001b[0m                     \u001b[0mdo_return\u001b[0m \u001b[0;34m=\u001b[0m \u001b[0;32mTrue\u001b[0m\u001b[0;34m\u001b[0m\u001b[0;34m\u001b[0m\u001b[0m\n\u001b[0;32m---> 15\u001b[0;31m                     \u001b[0mretval_\u001b[0m \u001b[0;34m=\u001b[0m \u001b[0mag__\u001b[0m\u001b[0;34m.\u001b[0m\u001b[0mconverted_call\u001b[0m\u001b[0;34m(\u001b[0m\u001b[0mag__\u001b[0m\u001b[0;34m.\u001b[0m\u001b[0mld\u001b[0m\u001b[0;34m(\u001b[0m\u001b[0mstep_function\u001b[0m\u001b[0;34m)\u001b[0m\u001b[0;34m,\u001b[0m \u001b[0;34m(\u001b[0m\u001b[0mag__\u001b[0m\u001b[0;34m.\u001b[0m\u001b[0mld\u001b[0m\u001b[0;34m(\u001b[0m\u001b[0mself\u001b[0m\u001b[0;34m)\u001b[0m\u001b[0;34m,\u001b[0m \u001b[0mag__\u001b[0m\u001b[0;34m.\u001b[0m\u001b[0mld\u001b[0m\u001b[0;34m(\u001b[0m\u001b[0miterator\u001b[0m\u001b[0;34m)\u001b[0m\u001b[0;34m)\u001b[0m\u001b[0;34m,\u001b[0m \u001b[0;32mNone\u001b[0m\u001b[0;34m,\u001b[0m \u001b[0mfscope\u001b[0m\u001b[0;34m)\u001b[0m\u001b[0;34m\u001b[0m\u001b[0;34m\u001b[0m\u001b[0m\n\u001b[0m\u001b[1;32m     16\u001b[0m                 \u001b[0;32mexcept\u001b[0m\u001b[0;34m:\u001b[0m\u001b[0;34m\u001b[0m\u001b[0;34m\u001b[0m\u001b[0m\n\u001b[1;32m     17\u001b[0m                     \u001b[0mdo_return\u001b[0m \u001b[0;34m=\u001b[0m \u001b[0;32mFalse\u001b[0m\u001b[0;34m\u001b[0m\u001b[0;34m\u001b[0m\u001b[0m\n",
            "\u001b[0;31mTypeError\u001b[0m: in user code:\n\n    File \"/usr/local/lib/python3.10/dist-packages/keras/src/engine/training.py\", line 1377, in train_function  *\n        return step_function(self, iterator)\n    File \"/usr/local/lib/python3.10/dist-packages/keras/src/engine/training.py\", line 1360, in step_function  **\n        outputs = model.distribute_strategy.run(run_step, args=(data,))\n    File \"/usr/local/lib/python3.10/dist-packages/keras/src/engine/training.py\", line 1349, in run_step  **\n        outputs = model.train_step(data)\n    File \"/usr/local/lib/python3.10/dist-packages/keras/src/engine/training.py\", line 1127, in train_step\n        loss = self.compute_loss(x, y, y_pred, sample_weight)\n    File \"/usr/local/lib/python3.10/dist-packages/keras/src/engine/training.py\", line 1185, in compute_loss\n        return self.compiled_loss(\n    File \"/usr/local/lib/python3.10/dist-packages/keras/src/engine/compile_utils.py\", line 277, in __call__\n        loss_value = loss_obj(y_t, y_p, sample_weight=sw)\n    File \"/usr/local/lib/python3.10/dist-packages/keras/src/losses.py\", line 161, in __call__\n        return losses_utils.compute_weighted_loss(\n    File \"/usr/local/lib/python3.10/dist-packages/keras/src/utils/losses_utils.py\", line 328, in compute_weighted_loss\n        losses = tf.convert_to_tensor(losses)\n\n    TypeError: Failed to convert elements of <keras.src.losses.CategoricalCrossentropy object at 0x783b70253220> to Tensor. Consider casting elements to a supported type. See https://www.tensorflow.org/api_docs/python/tf/dtypes for supported TF dtypes.\n"
          ]
        }
      ]
    }
  ]
}